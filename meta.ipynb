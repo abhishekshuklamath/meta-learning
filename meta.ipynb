{
 "cells": [
  {
   "cell_type": "code",
   "execution_count": 12,
   "id": "187d6126",
   "metadata": {},
   "outputs": [],
   "source": [
    "import jax.numpy as np\n",
    "import jax\n",
    "from jax import grad\n",
    "from jax import vmap\n",
    "from functools import partial\n",
    "from jax import jit\n",
    "from jax import random\n",
    "from jax.experimental import stax\n",
    "from jax.example_libraries.stax import Conv,Dense, MaxPool, Relu, LogSoftmax, Flatten\n",
    "import matplotlib.pyplot as plt\n",
    "import numpy as onp\n",
    "from jax.example_libraries import optimizers\n",
    "from jax.tree_util import tree_multimap\n",
    "import tensorflow\n",
    "from tensorflow import keras"
   ]
  },
  {
   "cell_type": "code",
   "execution_count": 13,
   "id": "f293c051",
   "metadata": {},
   "outputs": [
    {
     "name": "stderr",
     "output_type": "stream",
     "text": [
      "WARNING:absl:No GPU/TPU found, falling back to CPU. (Set TF_CPP_MIN_LOG_LEVEL=0 and rerun for more info.)\n"
     ]
    }
   ],
   "source": [
    "net_init, net_apply= stax.serial(Dense(120),Relu,\n",
    "                                Dense(240),Relu,\n",
    "                                Dense(1),stax.elementwise(jax.nn.softmax)\n",
    "                                )\n",
    "in_shape=(-1,28,28)\n",
    "rng=random.PRNGKey(0)\n",
    "out_shape, net_params = net_init(rng,in_shape)"
   ]
  },
  {
   "cell_type": "code",
   "execution_count": 21,
   "id": "539f295b",
   "metadata": {},
   "outputs": [],
   "source": [
    "(x_train_fmnist, y_train_fmnist), (x_test_fmnist, y_test_fmnist)= keras.datasets.fashion_mnist.load_data()\n",
    "(x_train_mnist, y_train_mnist), (x_test_mnist, y_test_mnist)= keras.datasets.mnist.load_data()"
   ]
  },
  {
   "cell_type": "code",
   "execution_count": 27,
   "id": "e749f0ab",
   "metadata": {},
   "outputs": [],
   "source": [
    "def one_hot(x, k, dtype=np.float32):\n",
    "    \"\"\"Create a one-hot encoding of x of size k \"\"\"\n",
    "    return np.array(x[:, None] == np.arange(k), dtype)\n",
    "\n",
    "def loss(params, inputs, targets):\n",
    "    predictions = net_apply(params,inputs)\n",
    "    return -np.sum(targets*predictions)\n",
    "\n",
    "def accuracy(params, input_data,targets):\n",
    "    \"\"\" Compute the accuracy for a provided dataloader \"\"\"\n",
    "    #what is a dataloader \n",
    "    acc_total = 0\n",
    "    for batch_idx, (data, target) in enumerate(data_loader):\n",
    "        images = np.array(data).reshape(data.size(0), 28*28)\n",
    "        targets = one_hot(np.array(target), num_classes)\n",
    "\n",
    "        target_class = np.argmax(targets, axis=1)\n",
    "        predicted_class = np.argmax(batch_forward(params, images), axis=1)\n",
    "        acc_total += np.sum(predicted_class == target_class)\n",
    "    return acc_total/len(data_loader.dataset)"
   ]
  },
  {
   "cell_type": "code",
   "execution_count": 19,
   "id": "6b614b38",
   "metadata": {},
   "outputs": [],
   "source": [
    "alpha=.1\n",
    "def inner_update(p,x1,y1):\n",
    "    grads= grad(loss)(p,x1,y1)\n",
    "    inner_sgd_fn= lambda g, state: (state-alpha*g)\n",
    "    return tree_multimap(inner_sgd_fn,grads,p)\n",
    "\n",
    "def maml_loss(p,x1,y1,x2,y2):\n",
    "    p2= inner_update(p,x1,y1)\n",
    "    return loss(p2,x2,y2)"
   ]
  },
  {
   "cell_type": "code",
   "execution_count": 20,
   "id": "ec6124c2",
   "metadata": {},
   "outputs": [],
   "source": [
    "opt_init, opt_update, get_params = optimizers.adam(step_size=1e-3)\n",
    "out_shape, net_params= net_init(rng,in_shape)\n",
    "opt_state = opt_init(net_params)\n",
    "\n",
    "@jit\n",
    "def step(i,opt_state,x1,y1,x2,y2):\n",
    "    p=get_params(opt_state)\n",
    "    g= grad(maml_loss)(p,x1,y1,x2,y2)\n",
    "    l=maml_loss(p,x1,y1,x2,y2)\n",
    "    return opt_update(i,g,opt_state),l"
   ]
  },
  {
   "cell_type": "code",
   "execution_count": 49,
   "id": "b5fba99e",
   "metadata": {},
   "outputs": [
    {
     "name": "stdout",
     "output_type": "stream",
     "text": [
      ".\n",
      ".\n",
      ".\n",
      ".\n",
      ".\n",
      ".\n",
      ".\n",
      ".\n",
      ".\n",
      ".\n",
      ".\n",
      ".\n",
      ".\n",
      ".\n",
      ".\n",
      ".\n",
      ".\n",
      ".\n",
      ".\n",
      ".\n"
     ]
    }
   ],
   "source": [
    "K=20\n",
    "epoch=20000\n",
    "np_maml_loss=[]\n",
    "toss=onp.random.randint(2, size=epoch)\n",
    "for i in range(epoch):\n",
    "    rand_index=onp.random.randint(x_train_mnist.shape[0],size=K)\n",
    "    if toss[i]==0:\n",
    "        #inner loop\n",
    "        x1=x_train_mnist[rand_index]\n",
    "        y1=y_train_mnist[rand_index]\n",
    "        #outer loop\n",
    "        x2= x_train_mnist[rand_index]\n",
    "        y2=y_train_mnist[rand_index]\n",
    "    if toss[i]==1:\n",
    "        #inner loop\n",
    "        x1=x_train_fmnist[rand_index]\n",
    "        y1=y_train_fmnist[rand_index]\n",
    "        #outer loop\n",
    "        x2= x_train_fmnist[rand_index]\n",
    "        y2=y_train_fmnist[rand_index]\n",
    "        \n",
    "    if i%1000==0:\n",
    "        print(\".\")\n",
    "    opt_state,l= step(i,opt_state, x1,y1,x2,y2)\n",
    "    np_maml_loss.append(l)\n",
    "    \n",
    "net_params = get_params(opt_state)"
   ]
  },
  {
   "cell_type": "code",
   "execution_count": 51,
   "id": "c33a8b6e",
   "metadata": {},
   "outputs": [
    {
     "name": "stdout",
     "output_type": "stream",
     "text": [
      "1-shot learning, test_accuracy 0.100\n",
      "2-shot learning, test_accuracy 0.100\n",
      "3-shot learning, test_accuracy 0.100\n",
      "4-shot learning, test_accuracy 0.100\n"
     ]
    }
   ],
   "source": [
    "#training on mnist_data now\n",
    "\n",
    "#targets= y_train_mnist[0:100]\n",
    "#predictions= vmap(partial(net_apply,net_params))(x_train_mnist[0:100])\n",
    "\n",
    "for i in range(1,5):\n",
    "    rand_index=onp.random.randint(x_train_fmnist.shape[0],size=K)\n",
    "    x1=x_train_fmnist[rand_index]\n",
    "    y1=y_train_fmnist[rand_index]\n",
    "    net_params= inner_update(net_params,x1,y1)\n",
    "    predictions = vmap(partial(net_apply,net_params))(x_test_fmnist)\n",
    "    predicted_class=np.argmax(predictions, axis=1)\n",
    "    test_accuracy= np.mean(predicted_class == y_test_fmnist)\n",
    "    print(\"{}-shot learning, test_accuracy {:1.3f}\".format(i,test_accuracy))"
   ]
  },
  {
   "cell_type": "code",
   "execution_count": null,
   "id": "42fce717",
   "metadata": {},
   "outputs": [],
   "source": []
  }
 ],
 "metadata": {
  "kernelspec": {
   "display_name": "Python 3 (ipykernel)",
   "language": "python",
   "name": "python3"
  },
  "language_info": {
   "codemirror_mode": {
    "name": "ipython",
    "version": 3
   },
   "file_extension": ".py",
   "mimetype": "text/x-python",
   "name": "python",
   "nbconvert_exporter": "python",
   "pygments_lexer": "ipython3",
   "version": "3.8.12"
  }
 },
 "nbformat": 4,
 "nbformat_minor": 5
}
