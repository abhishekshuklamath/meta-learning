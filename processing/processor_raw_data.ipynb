{
 "cells": [
  {
   "cell_type": "code",
   "execution_count": null,
   "id": "5418e46d",
   "metadata": {},
   "outputs": [],
   "source": [
    "eth_ID=pd.read_csv('eth_ID.csv',index_col=[0])\n",
    "eth=eth_ID['eth'].unique()"
   ]
  },
  {
   "cell_type": "code",
   "execution_count": null,
   "id": "9307dec7",
   "metadata": {},
   "outputs": [],
   "source": [
    "data=pd.read_csv('processed_data_mar29_raw_1.csv')\n",
    "data.index=data['POS'] #set ID col as index\n",
    "data=data.drop(['ID','#CHROM','POS','POS.1','REF','ALT','QUAL','FILTER','INFO','FORMAT'],axis=1) #drop columns other than individual data\n",
    "data=data.applymap(lambda x: 2 if x=='1|1' else(0 if x=='0|0' else 1)) #sets 0|0 to 0 ...\n",
    "#data=data.drop(removal_list,axis=1)\n",
    "data=data.T\n",
    "data['eth']=eth_ID['eth']"
   ]
  }
 ],
 "metadata": {
  "kernelspec": {
   "display_name": "Python 3 (ipykernel)",
   "language": "python",
   "name": "python3"
  },
  "language_info": {
   "codemirror_mode": {
    "name": "ipython",
    "version": 3
   },
   "file_extension": ".py",
   "mimetype": "text/x-python",
   "name": "python",
   "nbconvert_exporter": "python",
   "pygments_lexer": "ipython3",
   "version": "3.8.12"
  }
 },
 "nbformat": 4,
 "nbformat_minor": 5
}
